{
  "cells": [
    {
      "cell_type": "markdown",
      "metadata": {
        "id": "view-in-github",
        "colab_type": "text"
      },
      "source": [
        "<a href=\"https://colab.research.google.com/github/akajammythakkar/google-io-extended-brc/blob/main/RAG_with_Gemini.ipynb\" target=\"_parent\"><img src=\"https://colab.research.google.com/assets/colab-badge.svg\" alt=\"Open In Colab\"/></a>"
      ]
    },
    {
      "cell_type": "code",
      "source": [
        "# install libraries\n",
        "!pip install langchain chromadb pypdf google-generativeai sentence_transformers"
      ],
      "metadata": {
        "colab": {
          "base_uri": "https://localhost:8080/"
        },
        "id": "FmZxGAfk70a3",
        "outputId": "f9b4c090-55fe-45fc-bf74-ddaebe49357e"
      },
      "id": "FmZxGAfk70a3",
      "execution_count": 1,
      "outputs": [
        {
          "output_type": "stream",
          "name": "stdout",
          "text": [
            "Collecting langchain\n",
            "  Downloading langchain-0.2.5-py3-none-any.whl (974 kB)\n",
            "\u001b[2K     \u001b[90m━━━━━━━━━━━━━━━━━━━━━━━━━━━━━━━━━━━━━━━━\u001b[0m \u001b[32m974.6/974.6 kB\u001b[0m \u001b[31m4.8 MB/s\u001b[0m eta \u001b[36m0:00:00\u001b[0m\n",
            "\u001b[?25hCollecting chromadb\n",
            "  Downloading chromadb-0.5.0-py3-none-any.whl (526 kB)\n",
            "\u001b[2K     \u001b[90m━━━━━━━━━━━━━━━━━━━━━━━━━━━━━━━━━━━━━━━━\u001b[0m \u001b[32m526.8/526.8 kB\u001b[0m \u001b[31m13.7 MB/s\u001b[0m eta \u001b[36m0:00:00\u001b[0m\n",
            "\u001b[?25hCollecting pypdf\n",
            "  Downloading pypdf-4.2.0-py3-none-any.whl (290 kB)\n",
            "\u001b[2K     \u001b[90m━━━━━━━━━━━━━━━━━━━━━━━━━━━━━━━━━━━━━━━━\u001b[0m \u001b[32m290.4/290.4 kB\u001b[0m \u001b[31m14.8 MB/s\u001b[0m eta \u001b[36m0:00:00\u001b[0m\n",
            "\u001b[?25hRequirement already satisfied: google-generativeai in /usr/local/lib/python3.10/dist-packages (0.5.4)\n",
            "Collecting sentence_transformers\n",
            "  Downloading sentence_transformers-3.0.1-py3-none-any.whl (227 kB)\n",
            "\u001b[2K     \u001b[90m━━━━━━━━━━━━━━━━━━━━━━━━━━━━━━━━━━━━━━━━\u001b[0m \u001b[32m227.1/227.1 kB\u001b[0m \u001b[31m13.2 MB/s\u001b[0m eta \u001b[36m0:00:00\u001b[0m\n",
            "\u001b[?25hRequirement already satisfied: PyYAML>=5.3 in /usr/local/lib/python3.10/dist-packages (from langchain) (6.0.1)\n",
            "Requirement already satisfied: SQLAlchemy<3,>=1.4 in /usr/local/lib/python3.10/dist-packages (from langchain) (2.0.30)\n",
            "Requirement already satisfied: aiohttp<4.0.0,>=3.8.3 in /usr/local/lib/python3.10/dist-packages (from langchain) (3.9.5)\n",
            "Requirement already satisfied: async-timeout<5.0.0,>=4.0.0 in /usr/local/lib/python3.10/dist-packages (from langchain) (4.0.3)\n",
            "Collecting langchain-core<0.3.0,>=0.2.7 (from langchain)\n",
            "  Downloading langchain_core-0.2.7-py3-none-any.whl (315 kB)\n",
            "\u001b[2K     \u001b[90m━━━━━━━━━━━━━━━━━━━━━━━━━━━━━━━━━━━━━━━━\u001b[0m \u001b[32m315.6/315.6 kB\u001b[0m \u001b[31m17.7 MB/s\u001b[0m eta \u001b[36m0:00:00\u001b[0m\n",
            "\u001b[?25hCollecting langchain-text-splitters<0.3.0,>=0.2.0 (from langchain)\n",
            "  Downloading langchain_text_splitters-0.2.1-py3-none-any.whl (23 kB)\n",
            "Collecting langsmith<0.2.0,>=0.1.17 (from langchain)\n",
            "  Downloading langsmith-0.1.77-py3-none-any.whl (125 kB)\n",
            "\u001b[2K     \u001b[90m━━━━━━━━━━━━━━━━━━━━━━━━━━━━━━━━━━━━━━━━\u001b[0m \u001b[32m125.2/125.2 kB\u001b[0m \u001b[31m10.8 MB/s\u001b[0m eta \u001b[36m0:00:00\u001b[0m\n",
            "\u001b[?25hRequirement already satisfied: numpy<2,>=1 in /usr/local/lib/python3.10/dist-packages (from langchain) (1.25.2)\n",
            "Requirement already satisfied: pydantic<3,>=1 in /usr/local/lib/python3.10/dist-packages (from langchain) (2.7.3)\n",
            "Requirement already satisfied: requests<3,>=2 in /usr/local/lib/python3.10/dist-packages (from langchain) (2.31.0)\n",
            "Requirement already satisfied: tenacity<9.0.0,>=8.1.0 in /usr/local/lib/python3.10/dist-packages (from langchain) (8.3.0)\n",
            "Requirement already satisfied: build>=1.0.3 in /usr/local/lib/python3.10/dist-packages (from chromadb) (1.2.1)\n",
            "Collecting chroma-hnswlib==0.7.3 (from chromadb)\n",
            "  Downloading chroma_hnswlib-0.7.3-cp310-cp310-manylinux_2_17_x86_64.manylinux2014_x86_64.whl (2.4 MB)\n",
            "\u001b[2K     \u001b[90m━━━━━━━━━━━━━━━━━━━━━━━━━━━━━━━━━━━━━━━━\u001b[0m \u001b[32m2.4/2.4 MB\u001b[0m \u001b[31m20.1 MB/s\u001b[0m eta \u001b[36m0:00:00\u001b[0m\n",
            "\u001b[?25hCollecting fastapi>=0.95.2 (from chromadb)\n",
            "  Downloading fastapi-0.111.0-py3-none-any.whl (91 kB)\n",
            "\u001b[2K     \u001b[90m━━━━━━━━━━━━━━━━━━━━━━━━━━━━━━━━━━━━━━━━\u001b[0m \u001b[32m92.0/92.0 kB\u001b[0m \u001b[31m9.7 MB/s\u001b[0m eta \u001b[36m0:00:00\u001b[0m\n",
            "\u001b[?25hCollecting uvicorn[standard]>=0.18.3 (from chromadb)\n",
            "  Downloading uvicorn-0.30.1-py3-none-any.whl (62 kB)\n",
            "\u001b[2K     \u001b[90m━━━━━━━━━━━━━━━━━━━━━━━━━━━━━━━━━━━━━━━━\u001b[0m \u001b[32m62.4/62.4 kB\u001b[0m \u001b[31m3.1 MB/s\u001b[0m eta \u001b[36m0:00:00\u001b[0m\n",
            "\u001b[?25hCollecting posthog>=2.4.0 (from chromadb)\n",
            "  Downloading posthog-3.5.0-py2.py3-none-any.whl (41 kB)\n",
            "\u001b[2K     \u001b[90m━━━━━━━━━━━━━━━━━━━━━━━━━━━━━━━━━━━━━━━━\u001b[0m \u001b[32m41.3/41.3 kB\u001b[0m \u001b[31m4.6 MB/s\u001b[0m eta \u001b[36m0:00:00\u001b[0m\n",
            "\u001b[?25hRequirement already satisfied: typing-extensions>=4.5.0 in /usr/local/lib/python3.10/dist-packages (from chromadb) (4.12.2)\n",
            "Collecting onnxruntime>=1.14.1 (from chromadb)\n",
            "  Downloading onnxruntime-1.18.0-cp310-cp310-manylinux_2_27_x86_64.manylinux_2_28_x86_64.whl (6.8 MB)\n",
            "\u001b[2K     \u001b[90m━━━━━━━━━━━━━━━━━━━━━━━━━━━━━━━━━━━━━━━━\u001b[0m \u001b[32m6.8/6.8 MB\u001b[0m \u001b[31m49.5 MB/s\u001b[0m eta \u001b[36m0:00:00\u001b[0m\n",
            "\u001b[?25hCollecting opentelemetry-api>=1.2.0 (from chromadb)\n",
            "  Downloading opentelemetry_api-1.25.0-py3-none-any.whl (59 kB)\n",
            "\u001b[2K     \u001b[90m━━━━━━━━━━━━━━━━━━━━━━━━━━━━━━━━━━━━━━━━\u001b[0m \u001b[32m59.9/59.9 kB\u001b[0m \u001b[31m8.0 MB/s\u001b[0m eta \u001b[36m0:00:00\u001b[0m\n",
            "\u001b[?25hCollecting opentelemetry-exporter-otlp-proto-grpc>=1.2.0 (from chromadb)\n",
            "  Downloading opentelemetry_exporter_otlp_proto_grpc-1.25.0-py3-none-any.whl (18 kB)\n",
            "Collecting opentelemetry-instrumentation-fastapi>=0.41b0 (from chromadb)\n",
            "  Downloading opentelemetry_instrumentation_fastapi-0.46b0-py3-none-any.whl (11 kB)\n",
            "Collecting opentelemetry-sdk>=1.2.0 (from chromadb)\n",
            "  Downloading opentelemetry_sdk-1.25.0-py3-none-any.whl (107 kB)\n",
            "\u001b[2K     \u001b[90m━━━━━━━━━━━━━━━━━━━━━━━━━━━━━━━━━━━━━━━━\u001b[0m \u001b[32m107.0/107.0 kB\u001b[0m \u001b[31m13.4 MB/s\u001b[0m eta \u001b[36m0:00:00\u001b[0m\n",
            "\u001b[?25hRequirement already satisfied: tokenizers>=0.13.2 in /usr/local/lib/python3.10/dist-packages (from chromadb) (0.19.1)\n",
            "Collecting pypika>=0.48.9 (from chromadb)\n",
            "  Downloading PyPika-0.48.9.tar.gz (67 kB)\n",
            "\u001b[2K     \u001b[90m━━━━━━━━━━━━━━━━━━━━━━━━━━━━━━━━━━━━━━━━\u001b[0m \u001b[32m67.3/67.3 kB\u001b[0m \u001b[31m9.2 MB/s\u001b[0m eta \u001b[36m0:00:00\u001b[0m\n",
            "\u001b[?25h  Installing build dependencies ... \u001b[?25l\u001b[?25hdone\n",
            "  Getting requirements to build wheel ... \u001b[?25l\u001b[?25hdone\n",
            "  Preparing metadata (pyproject.toml) ... \u001b[?25l\u001b[?25hdone\n",
            "Requirement already satisfied: tqdm>=4.65.0 in /usr/local/lib/python3.10/dist-packages (from chromadb) (4.66.4)\n",
            "Collecting overrides>=7.3.1 (from chromadb)\n",
            "  Downloading overrides-7.7.0-py3-none-any.whl (17 kB)\n",
            "Requirement already satisfied: importlib-resources in /usr/local/lib/python3.10/dist-packages (from chromadb) (6.4.0)\n",
            "Requirement already satisfied: grpcio>=1.58.0 in /usr/local/lib/python3.10/dist-packages (from chromadb) (1.64.1)\n",
            "Collecting bcrypt>=4.0.1 (from chromadb)\n",
            "  Downloading bcrypt-4.1.3-cp39-abi3-manylinux_2_28_x86_64.whl (283 kB)\n",
            "\u001b[2K     \u001b[90m━━━━━━━━━━━━━━━━━━━━━━━━━━━━━━━━━━━━━━━━\u001b[0m \u001b[32m283.7/283.7 kB\u001b[0m \u001b[31m27.4 MB/s\u001b[0m eta \u001b[36m0:00:00\u001b[0m\n",
            "\u001b[?25hRequirement already satisfied: typer>=0.9.0 in /usr/local/lib/python3.10/dist-packages (from chromadb) (0.12.3)\n",
            "Collecting kubernetes>=28.1.0 (from chromadb)\n",
            "  Downloading kubernetes-30.1.0-py2.py3-none-any.whl (1.7 MB)\n",
            "\u001b[2K     \u001b[90m━━━━━━━━━━━━━━━━━━━━━━━━━━━━━━━━━━━━━━━━\u001b[0m \u001b[32m1.7/1.7 MB\u001b[0m \u001b[31m61.0 MB/s\u001b[0m eta \u001b[36m0:00:00\u001b[0m\n",
            "\u001b[?25hCollecting mmh3>=4.0.1 (from chromadb)\n",
            "  Downloading mmh3-4.1.0-cp310-cp310-manylinux_2_5_x86_64.manylinux1_x86_64.manylinux_2_17_x86_64.manylinux2014_x86_64.whl (67 kB)\n",
            "\u001b[2K     \u001b[90m━━━━━━━━━━━━━━━━━━━━━━━━━━━━━━━━━━━━━━━━\u001b[0m \u001b[32m67.6/67.6 kB\u001b[0m \u001b[31m9.1 MB/s\u001b[0m eta \u001b[36m0:00:00\u001b[0m\n",
            "\u001b[?25hCollecting orjson>=3.9.12 (from chromadb)\n",
            "  Downloading orjson-3.10.5-cp310-cp310-manylinux_2_17_x86_64.manylinux2014_x86_64.whl (144 kB)\n",
            "\u001b[2K     \u001b[90m━━━━━━━━━━━━━━━━━━━━━━━━━━━━━━━━━━━━━━━━\u001b[0m \u001b[32m145.0/145.0 kB\u001b[0m \u001b[31m15.6 MB/s\u001b[0m eta \u001b[36m0:00:00\u001b[0m\n",
            "\u001b[?25hRequirement already satisfied: google-ai-generativelanguage==0.6.4 in /usr/local/lib/python3.10/dist-packages (from google-generativeai) (0.6.4)\n",
            "Requirement already satisfied: google-api-core in /usr/local/lib/python3.10/dist-packages (from google-generativeai) (2.11.1)\n",
            "Requirement already satisfied: google-api-python-client in /usr/local/lib/python3.10/dist-packages (from google-generativeai) (2.84.0)\n",
            "Requirement already satisfied: google-auth>=2.15.0 in /usr/local/lib/python3.10/dist-packages (from google-generativeai) (2.27.0)\n",
            "Requirement already satisfied: protobuf in /usr/local/lib/python3.10/dist-packages (from google-generativeai) (3.20.3)\n",
            "Requirement already satisfied: proto-plus<2.0.0dev,>=1.22.3 in /usr/local/lib/python3.10/dist-packages (from google-ai-generativelanguage==0.6.4->google-generativeai) (1.23.0)\n",
            "Requirement already satisfied: transformers<5.0.0,>=4.34.0 in /usr/local/lib/python3.10/dist-packages (from sentence_transformers) (4.41.2)\n",
            "Requirement already satisfied: torch>=1.11.0 in /usr/local/lib/python3.10/dist-packages (from sentence_transformers) (2.3.0+cu121)\n",
            "Requirement already satisfied: scikit-learn in /usr/local/lib/python3.10/dist-packages (from sentence_transformers) (1.2.2)\n",
            "Requirement already satisfied: scipy in /usr/local/lib/python3.10/dist-packages (from sentence_transformers) (1.11.4)\n",
            "Requirement already satisfied: huggingface-hub>=0.15.1 in /usr/local/lib/python3.10/dist-packages (from sentence_transformers) (0.23.3)\n",
            "Requirement already satisfied: Pillow in /usr/local/lib/python3.10/dist-packages (from sentence_transformers) (9.4.0)\n",
            "Requirement already satisfied: aiosignal>=1.1.2 in /usr/local/lib/python3.10/dist-packages (from aiohttp<4.0.0,>=3.8.3->langchain) (1.3.1)\n",
            "Requirement already satisfied: attrs>=17.3.0 in /usr/local/lib/python3.10/dist-packages (from aiohttp<4.0.0,>=3.8.3->langchain) (23.2.0)\n",
            "Requirement already satisfied: frozenlist>=1.1.1 in /usr/local/lib/python3.10/dist-packages (from aiohttp<4.0.0,>=3.8.3->langchain) (1.4.1)\n",
            "Requirement already satisfied: multidict<7.0,>=4.5 in /usr/local/lib/python3.10/dist-packages (from aiohttp<4.0.0,>=3.8.3->langchain) (6.0.5)\n",
            "Requirement already satisfied: yarl<2.0,>=1.0 in /usr/local/lib/python3.10/dist-packages (from aiohttp<4.0.0,>=3.8.3->langchain) (1.9.4)\n",
            "Requirement already satisfied: packaging>=19.1 in /usr/local/lib/python3.10/dist-packages (from build>=1.0.3->chromadb) (24.1)\n",
            "Requirement already satisfied: pyproject_hooks in /usr/local/lib/python3.10/dist-packages (from build>=1.0.3->chromadb) (1.1.0)\n",
            "Requirement already satisfied: tomli>=1.1.0 in /usr/local/lib/python3.10/dist-packages (from build>=1.0.3->chromadb) (2.0.1)\n",
            "Collecting starlette<0.38.0,>=0.37.2 (from fastapi>=0.95.2->chromadb)\n",
            "  Downloading starlette-0.37.2-py3-none-any.whl (71 kB)\n",
            "\u001b[2K     \u001b[90m━━━━━━━━━━━━━━━━━━━━━━━━━━━━━━━━━━━━━━━━\u001b[0m \u001b[32m71.9/71.9 kB\u001b[0m \u001b[31m9.8 MB/s\u001b[0m eta \u001b[36m0:00:00\u001b[0m\n",
            "\u001b[?25hCollecting fastapi-cli>=0.0.2 (from fastapi>=0.95.2->chromadb)\n",
            "  Downloading fastapi_cli-0.0.4-py3-none-any.whl (9.5 kB)\n",
            "Collecting httpx>=0.23.0 (from fastapi>=0.95.2->chromadb)\n",
            "  Downloading httpx-0.27.0-py3-none-any.whl (75 kB)\n",
            "\u001b[2K     \u001b[90m━━━━━━━━━━━━━━━━━━━━━━━━━━━━━━━━━━━━━━━━\u001b[0m \u001b[32m75.6/75.6 kB\u001b[0m \u001b[31m10.2 MB/s\u001b[0m eta \u001b[36m0:00:00\u001b[0m\n",
            "\u001b[?25hRequirement already satisfied: jinja2>=2.11.2 in /usr/local/lib/python3.10/dist-packages (from fastapi>=0.95.2->chromadb) (3.1.4)\n",
            "Collecting python-multipart>=0.0.7 (from fastapi>=0.95.2->chromadb)\n",
            "  Downloading python_multipart-0.0.9-py3-none-any.whl (22 kB)\n",
            "Collecting ujson!=4.0.2,!=4.1.0,!=4.2.0,!=4.3.0,!=5.0.0,!=5.1.0,>=4.0.1 (from fastapi>=0.95.2->chromadb)\n",
            "  Downloading ujson-5.10.0-cp310-cp310-manylinux_2_17_x86_64.manylinux2014_x86_64.whl (53 kB)\n",
            "\u001b[2K     \u001b[90m━━━━━━━━━━━━━━━━━━━━━━━━━━━━━━━━━━━━━━━━\u001b[0m \u001b[32m53.6/53.6 kB\u001b[0m \u001b[31m7.2 MB/s\u001b[0m eta \u001b[36m0:00:00\u001b[0m\n",
            "\u001b[?25hCollecting email_validator>=2.0.0 (from fastapi>=0.95.2->chromadb)\n",
            "  Downloading email_validator-2.1.1-py3-none-any.whl (30 kB)\n",
            "Requirement already satisfied: cachetools<6.0,>=2.0.0 in /usr/local/lib/python3.10/dist-packages (from google-auth>=2.15.0->google-generativeai) (5.3.3)\n",
            "Requirement already satisfied: pyasn1-modules>=0.2.1 in /usr/local/lib/python3.10/dist-packages (from google-auth>=2.15.0->google-generativeai) (0.4.0)\n",
            "Requirement already satisfied: rsa<5,>=3.1.4 in /usr/local/lib/python3.10/dist-packages (from google-auth>=2.15.0->google-generativeai) (4.9)\n",
            "Requirement already satisfied: filelock in /usr/local/lib/python3.10/dist-packages (from huggingface-hub>=0.15.1->sentence_transformers) (3.14.0)\n",
            "Requirement already satisfied: fsspec>=2023.5.0 in /usr/local/lib/python3.10/dist-packages (from huggingface-hub>=0.15.1->sentence_transformers) (2023.6.0)\n",
            "Requirement already satisfied: certifi>=14.05.14 in /usr/local/lib/python3.10/dist-packages (from kubernetes>=28.1.0->chromadb) (2024.6.2)\n",
            "Requirement already satisfied: six>=1.9.0 in /usr/local/lib/python3.10/dist-packages (from kubernetes>=28.1.0->chromadb) (1.16.0)\n",
            "Requirement already satisfied: python-dateutil>=2.5.3 in /usr/local/lib/python3.10/dist-packages (from kubernetes>=28.1.0->chromadb) (2.8.2)\n",
            "Requirement already satisfied: websocket-client!=0.40.0,!=0.41.*,!=0.42.*,>=0.32.0 in /usr/local/lib/python3.10/dist-packages (from kubernetes>=28.1.0->chromadb) (1.8.0)\n",
            "Requirement already satisfied: requests-oauthlib in /usr/local/lib/python3.10/dist-packages (from kubernetes>=28.1.0->chromadb) (1.3.1)\n",
            "Requirement already satisfied: oauthlib>=3.2.2 in /usr/local/lib/python3.10/dist-packages (from kubernetes>=28.1.0->chromadb) (3.2.2)\n",
            "Requirement already satisfied: urllib3>=1.24.2 in /usr/local/lib/python3.10/dist-packages (from kubernetes>=28.1.0->chromadb) (2.0.7)\n",
            "Collecting jsonpatch<2.0,>=1.33 (from langchain-core<0.3.0,>=0.2.7->langchain)\n",
            "  Downloading jsonpatch-1.33-py2.py3-none-any.whl (12 kB)\n",
            "Collecting coloredlogs (from onnxruntime>=1.14.1->chromadb)\n",
            "  Downloading coloredlogs-15.0.1-py2.py3-none-any.whl (46 kB)\n",
            "\u001b[2K     \u001b[90m━━━━━━━━━━━━━━━━━━━━━━━━━━━━━━━━━━━━━━━━\u001b[0m \u001b[32m46.0/46.0 kB\u001b[0m \u001b[31m5.3 MB/s\u001b[0m eta \u001b[36m0:00:00\u001b[0m\n",
            "\u001b[?25hRequirement already satisfied: flatbuffers in /usr/local/lib/python3.10/dist-packages (from onnxruntime>=1.14.1->chromadb) (24.3.25)\n",
            "Requirement already satisfied: sympy in /usr/local/lib/python3.10/dist-packages (from onnxruntime>=1.14.1->chromadb) (1.12.1)\n",
            "Collecting deprecated>=1.2.6 (from opentelemetry-api>=1.2.0->chromadb)\n",
            "  Downloading Deprecated-1.2.14-py2.py3-none-any.whl (9.6 kB)\n",
            "Requirement already satisfied: importlib-metadata<=7.1,>=6.0 in /usr/local/lib/python3.10/dist-packages (from opentelemetry-api>=1.2.0->chromadb) (7.1.0)\n",
            "Requirement already satisfied: googleapis-common-protos~=1.52 in /usr/local/lib/python3.10/dist-packages (from opentelemetry-exporter-otlp-proto-grpc>=1.2.0->chromadb) (1.63.1)\n",
            "Collecting opentelemetry-exporter-otlp-proto-common==1.25.0 (from opentelemetry-exporter-otlp-proto-grpc>=1.2.0->chromadb)\n",
            "  Downloading opentelemetry_exporter_otlp_proto_common-1.25.0-py3-none-any.whl (17 kB)\n",
            "Collecting opentelemetry-proto==1.25.0 (from opentelemetry-exporter-otlp-proto-grpc>=1.2.0->chromadb)\n",
            "  Downloading opentelemetry_proto-1.25.0-py3-none-any.whl (52 kB)\n",
            "\u001b[2K     \u001b[90m━━━━━━━━━━━━━━━━━━━━━━━━━━━━━━━━━━━━━━━━\u001b[0m \u001b[32m52.5/52.5 kB\u001b[0m \u001b[31m7.8 MB/s\u001b[0m eta \u001b[36m0:00:00\u001b[0m\n",
            "\u001b[?25hCollecting opentelemetry-instrumentation-asgi==0.46b0 (from opentelemetry-instrumentation-fastapi>=0.41b0->chromadb)\n",
            "  Downloading opentelemetry_instrumentation_asgi-0.46b0-py3-none-any.whl (14 kB)\n",
            "Collecting opentelemetry-instrumentation==0.46b0 (from opentelemetry-instrumentation-fastapi>=0.41b0->chromadb)\n",
            "  Downloading opentelemetry_instrumentation-0.46b0-py3-none-any.whl (29 kB)\n",
            "Collecting opentelemetry-semantic-conventions==0.46b0 (from opentelemetry-instrumentation-fastapi>=0.41b0->chromadb)\n",
            "  Downloading opentelemetry_semantic_conventions-0.46b0-py3-none-any.whl (130 kB)\n",
            "\u001b[2K     \u001b[90m━━━━━━━━━━━━━━━━━━━━━━━━━━━━━━━━━━━━━━━━\u001b[0m \u001b[32m130.5/130.5 kB\u001b[0m \u001b[31m19.1 MB/s\u001b[0m eta \u001b[36m0:00:00\u001b[0m\n",
            "\u001b[?25hCollecting opentelemetry-util-http==0.46b0 (from opentelemetry-instrumentation-fastapi>=0.41b0->chromadb)\n",
            "  Downloading opentelemetry_util_http-0.46b0-py3-none-any.whl (6.9 kB)\n",
            "Requirement already satisfied: setuptools>=16.0 in /usr/local/lib/python3.10/dist-packages (from opentelemetry-instrumentation==0.46b0->opentelemetry-instrumentation-fastapi>=0.41b0->chromadb) (67.7.2)\n",
            "Requirement already satisfied: wrapt<2.0.0,>=1.0.0 in /usr/local/lib/python3.10/dist-packages (from opentelemetry-instrumentation==0.46b0->opentelemetry-instrumentation-fastapi>=0.41b0->chromadb) (1.14.1)\n",
            "Collecting asgiref~=3.0 (from opentelemetry-instrumentation-asgi==0.46b0->opentelemetry-instrumentation-fastapi>=0.41b0->chromadb)\n",
            "  Downloading asgiref-3.8.1-py3-none-any.whl (23 kB)\n",
            "Collecting monotonic>=1.5 (from posthog>=2.4.0->chromadb)\n",
            "  Downloading monotonic-1.6-py2.py3-none-any.whl (8.2 kB)\n",
            "Collecting backoff>=1.10.0 (from posthog>=2.4.0->chromadb)\n",
            "  Downloading backoff-2.2.1-py3-none-any.whl (15 kB)\n",
            "Requirement already satisfied: annotated-types>=0.4.0 in /usr/local/lib/python3.10/dist-packages (from pydantic<3,>=1->langchain) (0.7.0)\n",
            "Requirement already satisfied: pydantic-core==2.18.4 in /usr/local/lib/python3.10/dist-packages (from pydantic<3,>=1->langchain) (2.18.4)\n",
            "Requirement already satisfied: charset-normalizer<4,>=2 in /usr/local/lib/python3.10/dist-packages (from requests<3,>=2->langchain) (3.3.2)\n",
            "Requirement already satisfied: idna<4,>=2.5 in /usr/local/lib/python3.10/dist-packages (from requests<3,>=2->langchain) (3.7)\n",
            "Requirement already satisfied: greenlet!=0.4.17 in /usr/local/lib/python3.10/dist-packages (from SQLAlchemy<3,>=1.4->langchain) (3.0.3)\n",
            "Requirement already satisfied: networkx in /usr/local/lib/python3.10/dist-packages (from torch>=1.11.0->sentence_transformers) (3.3)\n",
            "Collecting nvidia-cuda-nvrtc-cu12==12.1.105 (from torch>=1.11.0->sentence_transformers)\n",
            "  Using cached nvidia_cuda_nvrtc_cu12-12.1.105-py3-none-manylinux1_x86_64.whl (23.7 MB)\n",
            "Collecting nvidia-cuda-runtime-cu12==12.1.105 (from torch>=1.11.0->sentence_transformers)\n",
            "  Using cached nvidia_cuda_runtime_cu12-12.1.105-py3-none-manylinux1_x86_64.whl (823 kB)\n",
            "Collecting nvidia-cuda-cupti-cu12==12.1.105 (from torch>=1.11.0->sentence_transformers)\n",
            "  Using cached nvidia_cuda_cupti_cu12-12.1.105-py3-none-manylinux1_x86_64.whl (14.1 MB)\n",
            "Collecting nvidia-cudnn-cu12==8.9.2.26 (from torch>=1.11.0->sentence_transformers)\n",
            "  Using cached nvidia_cudnn_cu12-8.9.2.26-py3-none-manylinux1_x86_64.whl (731.7 MB)\n",
            "Collecting nvidia-cublas-cu12==12.1.3.1 (from torch>=1.11.0->sentence_transformers)\n",
            "  Using cached nvidia_cublas_cu12-12.1.3.1-py3-none-manylinux1_x86_64.whl (410.6 MB)\n",
            "Collecting nvidia-cufft-cu12==11.0.2.54 (from torch>=1.11.0->sentence_transformers)\n",
            "  Using cached nvidia_cufft_cu12-11.0.2.54-py3-none-manylinux1_x86_64.whl (121.6 MB)\n",
            "Collecting nvidia-curand-cu12==10.3.2.106 (from torch>=1.11.0->sentence_transformers)\n",
            "  Using cached nvidia_curand_cu12-10.3.2.106-py3-none-manylinux1_x86_64.whl (56.5 MB)\n",
            "Collecting nvidia-cusolver-cu12==11.4.5.107 (from torch>=1.11.0->sentence_transformers)\n",
            "  Using cached nvidia_cusolver_cu12-11.4.5.107-py3-none-manylinux1_x86_64.whl (124.2 MB)\n",
            "Collecting nvidia-cusparse-cu12==12.1.0.106 (from torch>=1.11.0->sentence_transformers)\n",
            "  Using cached nvidia_cusparse_cu12-12.1.0.106-py3-none-manylinux1_x86_64.whl (196.0 MB)\n",
            "Collecting nvidia-nccl-cu12==2.20.5 (from torch>=1.11.0->sentence_transformers)\n",
            "  Using cached nvidia_nccl_cu12-2.20.5-py3-none-manylinux2014_x86_64.whl (176.2 MB)\n",
            "Collecting nvidia-nvtx-cu12==12.1.105 (from torch>=1.11.0->sentence_transformers)\n",
            "  Using cached nvidia_nvtx_cu12-12.1.105-py3-none-manylinux1_x86_64.whl (99 kB)\n",
            "Requirement already satisfied: triton==2.3.0 in /usr/local/lib/python3.10/dist-packages (from torch>=1.11.0->sentence_transformers) (2.3.0)\n",
            "Collecting nvidia-nvjitlink-cu12 (from nvidia-cusolver-cu12==11.4.5.107->torch>=1.11.0->sentence_transformers)\n",
            "  Downloading nvidia_nvjitlink_cu12-12.5.40-py3-none-manylinux2014_x86_64.whl (21.3 MB)\n",
            "\u001b[2K     \u001b[90m━━━━━━━━━━━━━━━━━━━━━━━━━━━━━━━━━━━━━━━━\u001b[0m \u001b[32m21.3/21.3 MB\u001b[0m \u001b[31m63.9 MB/s\u001b[0m eta \u001b[36m0:00:00\u001b[0m\n",
            "\u001b[?25hRequirement already satisfied: regex!=2019.12.17 in /usr/local/lib/python3.10/dist-packages (from transformers<5.0.0,>=4.34.0->sentence_transformers) (2024.5.15)\n",
            "Requirement already satisfied: safetensors>=0.4.1 in /usr/local/lib/python3.10/dist-packages (from transformers<5.0.0,>=4.34.0->sentence_transformers) (0.4.3)\n",
            "Requirement already satisfied: click>=8.0.0 in /usr/local/lib/python3.10/dist-packages (from typer>=0.9.0->chromadb) (8.1.7)\n",
            "Requirement already satisfied: shellingham>=1.3.0 in /usr/local/lib/python3.10/dist-packages (from typer>=0.9.0->chromadb) (1.5.4)\n",
            "Requirement already satisfied: rich>=10.11.0 in /usr/local/lib/python3.10/dist-packages (from typer>=0.9.0->chromadb) (13.7.1)\n",
            "Collecting h11>=0.8 (from uvicorn[standard]>=0.18.3->chromadb)\n",
            "  Downloading h11-0.14.0-py3-none-any.whl (58 kB)\n",
            "\u001b[2K     \u001b[90m━━━━━━━━━━━━━━━━━━━━━━━━━━━━━━━━━━━━━━━━\u001b[0m \u001b[32m58.3/58.3 kB\u001b[0m \u001b[31m7.8 MB/s\u001b[0m eta \u001b[36m0:00:00\u001b[0m\n",
            "\u001b[?25hCollecting httptools>=0.5.0 (from uvicorn[standard]>=0.18.3->chromadb)\n",
            "  Downloading httptools-0.6.1-cp310-cp310-manylinux_2_5_x86_64.manylinux1_x86_64.manylinux_2_17_x86_64.manylinux2014_x86_64.whl (341 kB)\n",
            "\u001b[2K     \u001b[90m━━━━━━━━━━━━━━━━━━━━━━━━━━━━━━━━━━━━━━━━\u001b[0m \u001b[32m341.4/341.4 kB\u001b[0m \u001b[31m34.0 MB/s\u001b[0m eta \u001b[36m0:00:00\u001b[0m\n",
            "\u001b[?25hCollecting python-dotenv>=0.13 (from uvicorn[standard]>=0.18.3->chromadb)\n",
            "  Downloading python_dotenv-1.0.1-py3-none-any.whl (19 kB)\n",
            "Collecting uvloop!=0.15.0,!=0.15.1,>=0.14.0 (from uvicorn[standard]>=0.18.3->chromadb)\n",
            "  Downloading uvloop-0.19.0-cp310-cp310-manylinux_2_17_x86_64.manylinux2014_x86_64.whl (3.4 MB)\n",
            "\u001b[2K     \u001b[90m━━━━━━━━━━━━━━━━━━━━━━━━━━━━━━━━━━━━━━━━\u001b[0m \u001b[32m3.4/3.4 MB\u001b[0m \u001b[31m91.5 MB/s\u001b[0m eta \u001b[36m0:00:00\u001b[0m\n",
            "\u001b[?25hCollecting watchfiles>=0.13 (from uvicorn[standard]>=0.18.3->chromadb)\n",
            "  Downloading watchfiles-0.22.0-cp310-cp310-manylinux_2_17_x86_64.manylinux2014_x86_64.whl (1.2 MB)\n",
            "\u001b[2K     \u001b[90m━━━━━━━━━━━━━━━━━━━━━━━━━━━━━━━━━━━━━━━━\u001b[0m \u001b[32m1.2/1.2 MB\u001b[0m \u001b[31m53.0 MB/s\u001b[0m eta \u001b[36m0:00:00\u001b[0m\n",
            "\u001b[?25hCollecting websockets>=10.4 (from uvicorn[standard]>=0.18.3->chromadb)\n",
            "  Downloading websockets-12.0-cp310-cp310-manylinux_2_5_x86_64.manylinux1_x86_64.manylinux_2_17_x86_64.manylinux2014_x86_64.whl (130 kB)\n",
            "\u001b[2K     \u001b[90m━━━━━━━━━━━━━━━━━━━━━━━━━━━━━━━━━━━━━━━━\u001b[0m \u001b[32m130.2/130.2 kB\u001b[0m \u001b[31m17.9 MB/s\u001b[0m eta \u001b[36m0:00:00\u001b[0m\n",
            "\u001b[?25hRequirement already satisfied: httplib2<1dev,>=0.15.0 in /usr/local/lib/python3.10/dist-packages (from google-api-python-client->google-generativeai) (0.22.0)\n",
            "Requirement already satisfied: google-auth-httplib2>=0.1.0 in /usr/local/lib/python3.10/dist-packages (from google-api-python-client->google-generativeai) (0.1.1)\n",
            "Requirement already satisfied: uritemplate<5,>=3.0.1 in /usr/local/lib/python3.10/dist-packages (from google-api-python-client->google-generativeai) (4.1.1)\n",
            "Requirement already satisfied: joblib>=1.1.1 in /usr/local/lib/python3.10/dist-packages (from scikit-learn->sentence_transformers) (1.4.2)\n",
            "Requirement already satisfied: threadpoolctl>=2.0.0 in /usr/local/lib/python3.10/dist-packages (from scikit-learn->sentence_transformers) (3.5.0)\n",
            "Collecting dnspython>=2.0.0 (from email_validator>=2.0.0->fastapi>=0.95.2->chromadb)\n",
            "  Downloading dnspython-2.6.1-py3-none-any.whl (307 kB)\n",
            "\u001b[2K     \u001b[90m━━━━━━━━━━━━━━━━━━━━━━━━━━━━━━━━━━━━━━━━\u001b[0m \u001b[32m307.7/307.7 kB\u001b[0m \u001b[31m33.3 MB/s\u001b[0m eta \u001b[36m0:00:00\u001b[0m\n",
            "\u001b[?25hRequirement already satisfied: grpcio-status<2.0.dev0,>=1.33.2 in /usr/local/lib/python3.10/dist-packages (from google-api-core->google-generativeai) (1.48.2)\n",
            "Requirement already satisfied: pyparsing!=3.0.0,!=3.0.1,!=3.0.2,!=3.0.3,<4,>=2.4.2 in /usr/local/lib/python3.10/dist-packages (from httplib2<1dev,>=0.15.0->google-api-python-client->google-generativeai) (3.1.2)\n",
            "Requirement already satisfied: anyio in /usr/local/lib/python3.10/dist-packages (from httpx>=0.23.0->fastapi>=0.95.2->chromadb) (3.7.1)\n",
            "Collecting httpcore==1.* (from httpx>=0.23.0->fastapi>=0.95.2->chromadb)\n",
            "  Downloading httpcore-1.0.5-py3-none-any.whl (77 kB)\n",
            "\u001b[2K     \u001b[90m━━━━━━━━━━━━━━━━━━━━━━━━━━━━━━━━━━━━━━━━\u001b[0m \u001b[32m77.9/77.9 kB\u001b[0m \u001b[31m12.1 MB/s\u001b[0m eta \u001b[36m0:00:00\u001b[0m\n",
            "\u001b[?25hRequirement already satisfied: sniffio in /usr/local/lib/python3.10/dist-packages (from httpx>=0.23.0->fastapi>=0.95.2->chromadb) (1.3.1)\n",
            "Requirement already satisfied: zipp>=0.5 in /usr/local/lib/python3.10/dist-packages (from importlib-metadata<=7.1,>=6.0->opentelemetry-api>=1.2.0->chromadb) (3.19.2)\n",
            "Requirement already satisfied: MarkupSafe>=2.0 in /usr/local/lib/python3.10/dist-packages (from jinja2>=2.11.2->fastapi>=0.95.2->chromadb) (2.1.5)\n",
            "Collecting jsonpointer>=1.9 (from jsonpatch<2.0,>=1.33->langchain-core<0.3.0,>=0.2.7->langchain)\n",
            "  Downloading jsonpointer-3.0.0-py2.py3-none-any.whl (7.6 kB)\n",
            "Requirement already satisfied: pyasn1<0.7.0,>=0.4.6 in /usr/local/lib/python3.10/dist-packages (from pyasn1-modules>=0.2.1->google-auth>=2.15.0->google-generativeai) (0.6.0)\n",
            "Requirement already satisfied: markdown-it-py>=2.2.0 in /usr/local/lib/python3.10/dist-packages (from rich>=10.11.0->typer>=0.9.0->chromadb) (3.0.0)\n",
            "Requirement already satisfied: pygments<3.0.0,>=2.13.0 in /usr/local/lib/python3.10/dist-packages (from rich>=10.11.0->typer>=0.9.0->chromadb) (2.16.1)\n",
            "Collecting humanfriendly>=9.1 (from coloredlogs->onnxruntime>=1.14.1->chromadb)\n",
            "  Downloading humanfriendly-10.0-py2.py3-none-any.whl (86 kB)\n",
            "\u001b[2K     \u001b[90m━━━━━━━━━━━━━━━━━━━━━━━━━━━━━━━━━━━━━━━━\u001b[0m \u001b[32m86.8/86.8 kB\u001b[0m \u001b[31m10.0 MB/s\u001b[0m eta \u001b[36m0:00:00\u001b[0m\n",
            "\u001b[?25hRequirement already satisfied: mpmath<1.4.0,>=1.1.0 in /usr/local/lib/python3.10/dist-packages (from sympy->onnxruntime>=1.14.1->chromadb) (1.3.0)\n",
            "Requirement already satisfied: exceptiongroup in /usr/local/lib/python3.10/dist-packages (from anyio->httpx>=0.23.0->fastapi>=0.95.2->chromadb) (1.2.1)\n",
            "Requirement already satisfied: mdurl~=0.1 in /usr/local/lib/python3.10/dist-packages (from markdown-it-py>=2.2.0->rich>=10.11.0->typer>=0.9.0->chromadb) (0.1.2)\n",
            "Building wheels for collected packages: pypika\n",
            "  Building wheel for pypika (pyproject.toml) ... \u001b[?25l\u001b[?25hdone\n",
            "  Created wheel for pypika: filename=PyPika-0.48.9-py2.py3-none-any.whl size=53724 sha256=bd1b4929cafffdb084d0b977a9d560a8d666174c307d1f26ce076f1a48588b1f\n",
            "  Stored in directory: /root/.cache/pip/wheels/e1/26/51/d0bffb3d2fd82256676d7ad3003faea3bd6dddc9577af665f4\n",
            "Successfully built pypika\n",
            "Installing collected packages: pypika, monotonic, mmh3, websockets, uvloop, ujson, python-multipart, python-dotenv, pypdf, overrides, orjson, opentelemetry-util-http, opentelemetry-proto, nvidia-nvtx-cu12, nvidia-nvjitlink-cu12, nvidia-nccl-cu12, nvidia-curand-cu12, nvidia-cufft-cu12, nvidia-cuda-runtime-cu12, nvidia-cuda-nvrtc-cu12, nvidia-cuda-cupti-cu12, nvidia-cublas-cu12, jsonpointer, humanfriendly, httptools, h11, dnspython, deprecated, chroma-hnswlib, bcrypt, backoff, asgiref, watchfiles, uvicorn, starlette, posthog, opentelemetry-exporter-otlp-proto-common, opentelemetry-api, nvidia-cusparse-cu12, nvidia-cudnn-cu12, jsonpatch, httpcore, email_validator, coloredlogs, opentelemetry-semantic-conventions, opentelemetry-instrumentation, onnxruntime, nvidia-cusolver-cu12, langsmith, kubernetes, httpx, opentelemetry-sdk, opentelemetry-instrumentation-asgi, langchain-core, fastapi-cli, sentence_transformers, opentelemetry-instrumentation-fastapi, opentelemetry-exporter-otlp-proto-grpc, langchain-text-splitters, fastapi, langchain, chromadb\n",
            "Successfully installed asgiref-3.8.1 backoff-2.2.1 bcrypt-4.1.3 chroma-hnswlib-0.7.3 chromadb-0.5.0 coloredlogs-15.0.1 deprecated-1.2.14 dnspython-2.6.1 email_validator-2.1.1 fastapi-0.111.0 fastapi-cli-0.0.4 h11-0.14.0 httpcore-1.0.5 httptools-0.6.1 httpx-0.27.0 humanfriendly-10.0 jsonpatch-1.33 jsonpointer-3.0.0 kubernetes-30.1.0 langchain-0.2.5 langchain-core-0.2.7 langchain-text-splitters-0.2.1 langsmith-0.1.77 mmh3-4.1.0 monotonic-1.6 nvidia-cublas-cu12-12.1.3.1 nvidia-cuda-cupti-cu12-12.1.105 nvidia-cuda-nvrtc-cu12-12.1.105 nvidia-cuda-runtime-cu12-12.1.105 nvidia-cudnn-cu12-8.9.2.26 nvidia-cufft-cu12-11.0.2.54 nvidia-curand-cu12-10.3.2.106 nvidia-cusolver-cu12-11.4.5.107 nvidia-cusparse-cu12-12.1.0.106 nvidia-nccl-cu12-2.20.5 nvidia-nvjitlink-cu12-12.5.40 nvidia-nvtx-cu12-12.1.105 onnxruntime-1.18.0 opentelemetry-api-1.25.0 opentelemetry-exporter-otlp-proto-common-1.25.0 opentelemetry-exporter-otlp-proto-grpc-1.25.0 opentelemetry-instrumentation-0.46b0 opentelemetry-instrumentation-asgi-0.46b0 opentelemetry-instrumentation-fastapi-0.46b0 opentelemetry-proto-1.25.0 opentelemetry-sdk-1.25.0 opentelemetry-semantic-conventions-0.46b0 opentelemetry-util-http-0.46b0 orjson-3.10.5 overrides-7.7.0 posthog-3.5.0 pypdf-4.2.0 pypika-0.48.9 python-dotenv-1.0.1 python-multipart-0.0.9 sentence_transformers-3.0.1 starlette-0.37.2 ujson-5.10.0 uvicorn-0.30.1 uvloop-0.19.0 watchfiles-0.22.0 websockets-12.0\n"
          ]
        }
      ]
    },
    {
      "cell_type": "markdown",
      "source": [
        "#### Import necessary libraries"
      ],
      "metadata": {
        "id": "L5h3_h4C8Q70"
      },
      "id": "L5h3_h4C8Q70"
    },
    {
      "cell_type": "code",
      "execution_count": 1,
      "id": "5a5536f0-651c-40e7-aa15-27ee0cda80b7",
      "metadata": {
        "id": "5a5536f0-651c-40e7-aa15-27ee0cda80b7"
      },
      "outputs": [],
      "source": [
        "from langchain.text_splitter import RecursiveCharacterTextSplitter, SentenceTransformersTokenTextSplitter\n",
        "import chromadb\n",
        "from chromadb.utils.embedding_functions import SentenceTransformerEmbeddingFunction\n",
        "from pypdf import PdfReader\n",
        "import google.generativeai as genai\n",
        "from pprint import pprint\n",
        "from google.colab import userdata"
      ]
    },
    {
      "cell_type": "code",
      "execution_count": 2,
      "id": "3748b16d-d4a7-49c3-a48a-57dcfc42acd6",
      "metadata": {
        "colab": {
          "base_uri": "https://localhost:8080/"
        },
        "id": "3748b16d-d4a7-49c3-a48a-57dcfc42acd6",
        "outputId": "364a6c70-30c1-4a09-e614-695c68cfabf6"
      },
      "outputs": [
        {
          "output_type": "stream",
          "name": "stdout",
          "text": [
            "('To our investors,\\n'\n",
            " '2022 was a year full of change and uncertainty around \\n'\n",
            " 'the world. In February, when war broke out in Ukraine, our teams worked '\n",
            " 'around-the-clock to make sure our products were helpful to people who needed '\n",
            " 'them, from providing trustworthy information on Search to disrupting '\n",
            " 'cyberattacks to partnering with the government to deploy air raid alerts. In '\n",
            " 'March, I traveled to Warsaw, Poland, where I met Googlers hosting families '\n",
            " 'who sought refuge, talked with entrepreneurs using our office spaces, and '\n",
            " 'saw how our products like Google Translate were helping Ukrainians find a '\n",
            " 'bit of hope and connection.\\n'\n",
            " 'By late spring, the tech industry was adjusting to a \\n'\n",
            " 'more challenging macroeconomic environment, and as a company we embarked on '\n",
            " 'efforts to sharpen our focus and make sure our efforts are aligned with our '\n",
            " 'highest priorities. Near the end of the year, AI reached an inflection '\n",
            " 'point, made possible by our foundational breakthroughs like Transformer and '\n",
            " 'advances in diffusion models. It was an exciting moment for us after having '\n",
            " 'worked to develop the technology responsibly for so many years. And on '\n",
            " 'December 18, during the World Cup final, Google Search saw its highest '\n",
            " 'query-per-second volume of all time, a strong signal of our momentum.\\n'\n",
            " 'Through it all, we launched new products that helped us \\n'\n",
            " 'advance our mission: to organize the world’s information and make it '\n",
            " 'universally accessible and useful. Over the past few years, AI has emerged '\n",
            " 'as the most important way we can advance our mission, and in 2022, we made '\n",
            " 'some of our biggest technological advancements yet.  \\n'\n",
            " 'In the area of natural language understanding, our latest mo\\n'\n",
            " 'del, PaLM, demonstrates breakthrough capabilities \\n'\n",
            " 'in language, reasoning, and code tasks. Breakthroughs in “chain of thought” '\n",
            " 'prompting are helping to build systems that can perform multistep reasoning '\n",
            " 'and break down complex problems into smaller tasks. We also shared new '\n",
            " 'generative models, including Imagen, our text-to-image model, and Phenaki, '\n",
            " 'which can generate long, coherent videos from text prompts.\\n'\n",
            " 'It’s been especially exciting to see how AI advancements \\n'\n",
            " 'are making our products more helpful. Last year, we launched multisearch, a '\n",
            " 'new way to search using both text and images, and it’s now available in more '\n",
            " 'than  \\n'\n",
            " '70 languages. People use Lens more than 10 billion  \\n'\n",
            " 'times per month to search with their camera or images,  \\n'\n",
            " 'and its new, AI-powered translation feature blends t\\n'\n",
            " 'ranslated text seamlessly into the background of images. \\n'\n",
            " 'And, thanks to a new machine learning technique, we added 24 new languages '\n",
            " 'to Google Translate, including its first indigenous languages of the '\n",
            " 'Americas.\\n'\n",
            " 'The breakthroughs we’re seeing are poised to transform \\n'\n",
            " 'every industry, and we’re helping businesses tap into the new opportunities '\n",
            " 'AI creates. Last year, we announced new products to help businesses solve '\n",
            " 'problems using AI, including Translation Hub, which can be used to translate '\n",
            " 'documents into 135 languages at a previously unimaginable scale and speed. '\n",
            " 'We brought more AI-powered features to Google Workspace, including automatic '\n",
            " 'summarization for Google Docs and Chat to help people get work done faster. '\n",
            " 'To help advertisers create meaningful performance, last year we started '\n",
            " 'incorporating large language models into broad match,  \\n'\n",
            " 'a tool that makes it easier to match advertiser offers  \\n'\n",
            " 'to search queries.\\n'\n",
            " 'I\\n'\n",
            " 'n the first few months of 2023, we’ve continued to roll \\n'\n",
            " 'out new products and features that help unlock incredible \\n'\n",
            " 'opportunities for consumers, partners, and businesses, including ours. Among '\n",
            " 'them, we introduced PaLM API,  \\n'\n",
            " 'an easy and safe way for developers to build on top of our l\\n'\n",
            " 'anguage models, and generative AI capabilities in Google \\n'\n",
            " '→')\n"
          ]
        }
      ],
      "source": [
        "# Create a PdfReader object to read the PDF file\n",
        "reader = PdfReader(\"/content/Alphabet annual report.pdf\")\n",
        "\n",
        "# Extract text from each page in the PDF and strip any leading/trailing whitespace\n",
        "pdf_texts = [p.extract_text().strip() for p in reader.pages]\n",
        "\n",
        "# Filter out any empty strings from the extracted texts\n",
        "pdf_texts = [text for text in pdf_texts if text]\n",
        "\n",
        "# Pretty-print the text from the first page of the PDF\n",
        "pprint(pdf_texts[0])"
      ]
    },
    {
      "cell_type": "code",
      "execution_count": 3,
      "id": "888a86f8-2fe2-4682-bdaf-c15129ed1a32",
      "metadata": {
        "colab": {
          "base_uri": "https://localhost:8080/"
        },
        "id": "888a86f8-2fe2-4682-bdaf-c15129ed1a32",
        "outputId": "d56f3be0-4f9d-473f-e82e-a638978d825a"
      },
      "outputs": [
        {
          "output_type": "stream",
          "name": "stdout",
          "text": [
            "('5\\n'\n",
            " 'Year in Review 2022\\n'\n",
            " 'Multisearch\\n'\n",
            " 'With multisearch, people can now \\n'\n",
            " 'search with both images and text  \\n'\n",
            " 'at the same time in Google Lens.')\n",
            "\n",
            "Total chunks: 489\n"
          ]
        }
      ],
      "source": [
        "# Create a RecursiveCharacterTextSplitter object with specified separators, chunk size, and chunk overlap\n",
        "character_splitter = RecursiveCharacterTextSplitter(\n",
        "    separators=[\"\\n\\n\", \"\\n\", \". \", \" \", \"\"],  # List of separators for splitting the text\n",
        "    chunk_size=1000,  # Maximum size of each text chunk\n",
        "    chunk_overlap=0  # Number of characters to overlap between chunks\n",
        ")\n",
        "\n",
        "# Join the extracted PDF texts with '\\n\\n' and split the combined text into chunks\n",
        "character_split_texts = character_splitter.split_text('\\n\\n'.join(pdf_texts))\n",
        "\n",
        "# Pretty-print the text of the 11th chunk (index 10) of the split text\n",
        "pprint(character_split_texts[10])\n",
        "\n",
        "# Print the total number of chunks created\n",
        "print(f\"\\nTotal chunks: {len(character_split_texts)}\")"
      ]
    },
    {
      "cell_type": "code",
      "execution_count": 4,
      "id": "5665c695-22ea-4264-b1ac-5ba720b6d78b",
      "metadata": {
        "colab": {
          "base_uri": "https://localhost:8080/"
        },
        "id": "5665c695-22ea-4264-b1ac-5ba720b6d78b",
        "outputId": "b6001287-feb6-4c15-82fe-cc54a314bee2"
      },
      "outputs": [
        {
          "output_type": "stream",
          "name": "stderr",
          "text": [
            "/usr/local/lib/python3.10/dist-packages/huggingface_hub/utils/_token.py:89: UserWarning: \n",
            "The secret `HF_TOKEN` does not exist in your Colab secrets.\n",
            "To authenticate with the Hugging Face Hub, create a token in your settings tab (https://huggingface.co/settings/tokens), set it as secret in your Google Colab and restart your session.\n",
            "You will be able to reuse this secret in all of your notebooks.\n",
            "Please note that authentication is recommended but still optional to access public models or datasets.\n",
            "  warnings.warn(\n",
            "/usr/local/lib/python3.10/dist-packages/huggingface_hub/file_download.py:1132: FutureWarning: `resume_download` is deprecated and will be removed in version 1.0.0. Downloads always resume when possible. If you want to force a new download, use `force_download=True`.\n",
            "  warnings.warn(\n"
          ]
        },
        {
          "output_type": "stream",
          "name": "stdout",
          "text": [
            "('5 year in review 2022 multisearch with multisearch, people can now search '\n",
            " 'with both images and text at the same time in google lens.')\n",
            "\n",
            "Total chunks: 511\n"
          ]
        }
      ],
      "source": [
        "# Create a SentenceTransformersTokenTextSplitter object with specified chunk overlap and tokens per chunk\n",
        "token_splitter = SentenceTransformersTokenTextSplitter(chunk_overlap=0, tokens_per_chunk=256)\n",
        "\n",
        "# Initialize an empty list to hold the token-split texts\n",
        "token_split_texts = []\n",
        "\n",
        "# Loop through each chunk in the character-split texts\n",
        "for text in character_split_texts:\n",
        "    # Split the text into smaller chunks using the token splitter and add them to the token_split_texts list\n",
        "    token_split_texts += token_splitter.split_text(text)\n",
        "\n",
        "# Print the wrapped text of the 11th chunk (index 10) of the token-split text\n",
        "pprint(token_split_texts[10])\n",
        "\n",
        "# Print the total number of token-split chunks created\n",
        "print(f\"\\nTotal chunks: {len(token_split_texts)}\")"
      ]
    },
    {
      "cell_type": "code",
      "execution_count": 5,
      "id": "c2a13d14-4484-46f0-8e67-277337f9d138",
      "metadata": {
        "colab": {
          "base_uri": "https://localhost:8080/"
        },
        "id": "c2a13d14-4484-46f0-8e67-277337f9d138",
        "outputId": "69ec637e-f9f9-4eb2-b3f8-5249f03d7e9d"
      },
      "outputs": [
        {
          "output_type": "stream",
          "name": "stdout",
          "text": [
            "[[-0.032990410923957825, -0.039943940937519073, 0.027683231979608536, -0.020394684746861458, 0.01031690463423729, -0.013435314409434795, -0.11188779026269913, 0.0020084530115127563, -0.008219867013394833, -0.05463451147079468, 0.05009116232395172, 0.0608343631029129, 0.05028848722577095, 0.040277741849422455, 0.00026212268858216703, -0.0145362988114357, -0.05434255301952362, 0.0022567829582840204, -0.03845824673771858, -0.05322171375155449, 0.05845063552260399, -0.04633062705397606, 0.11275570094585419, -0.0909026563167572, -0.00557461753487587, 0.024509740993380547, -0.14071717858314514, -0.09735379368066788, -0.007698466069996357, 0.018437139689922333, -5.319666161085479e-05, 0.034669168293476105, -0.0063465856947004795, 0.11858687549829483, -0.08441866934299469, 0.05390059947967529, -0.06958919018507004, 0.05044799670577049, -0.010030854493379593, 0.016402781009674072, -0.04245797544717789, -0.036958444863557816, -0.03685654327273369, -0.05933716520667076, 0.031969502568244934, 0.021555420011281967, -0.016519607976078987, -0.06547921895980835, 0.12095297127962112, 0.018317295238375664, -0.1150941401720047, -0.023447858169674873, -0.05456090718507767, 0.0016744892345741391, 0.057891588658094406, 0.08628766238689423, -0.03949492797255516, 0.0044670202769339085, 0.003946499899029732, 0.015670141205191612, 0.0087787676602602, 0.01600087620317936, -0.0032538832165300846, 0.061322230845689774, 0.13086411356925964, 0.03328635171055794, 0.08286529034376144, -0.09430436044931412, 0.0023565853480249643, -0.09231957793235779, 0.05939966067671776, -0.0027769089210778475, 0.054115548729896545, -0.019976714625954628, -0.02035682089626789, 0.07041632384061813, 0.0036438454408198595, -0.02477434277534485, 0.003210614435374737, -0.009424750693142414, 0.03597020357847214, -0.043848443776369095, 0.025121627375483513, -0.023594971746206284, 0.02270011603832245, -0.09640183299779892, -0.12446412444114685, -0.049226921051740646, 0.04974711686372757, -0.07508797198534012, 0.03079415298998356, -0.06537651270627975, -0.007808643393218517, 0.039218656718730927, -0.06168624386191368, -0.05546456575393677, -0.061166949570178986, 0.049059297889471054, 0.012119110673666, -0.051592856645584106, -0.043592046946287155, -0.046137332916259766, 0.01925196684896946, -0.0009632157161831856, -0.036194466054439545, 0.02375601790845394, 0.05923493579030037, 0.015111448243260384, 0.023419948294758797, -0.057319480925798416, 0.008371499367058277, 0.06933693587779999, 0.024023359641432762, -0.03522408753633499, -0.048579711467027664, 0.0521569587290287, -0.05940821021795273, -0.05786284804344177, 0.1374533325433731, 0.07820280641317368, -0.06057344749569893, -0.00956108421087265, 0.0046931724064052105, -0.050697825849056244, -0.010184652172029018, -0.024617411196231842, -0.0243732538074255, 3.971518601532457e-33, 0.007024957332760096, 0.015832681208848953, 0.08486860245466232, 0.017659513279795647, -0.07573196291923523, 0.02474895678460598, -0.0438045933842659, 0.055595412850379944, -0.16327223181724548, -0.10690131783485413, 0.028707828372716904, 0.056747667491436005, -0.06198515370488167, 0.02338472194969654, 0.004513997118920088, -0.004911075811833143, 0.028633739799261093, 0.021540166810154915, 0.06016169860959053, 0.04365549981594086, 0.03289339691400528, -0.015947507694363594, -0.00163275096565485, -0.01594015583395958, 0.06689086556434631, 0.01568673364818096, 0.064393550157547, -0.10702139139175415, 0.04848340526223183, 0.04433872178196907, -0.06380800157785416, 0.06614794582128525, -0.015019793063402176, 0.017960643395781517, 0.04370341822504997, 0.05379537120461464, -0.060278140008449554, 0.07811678200960159, -0.030051371082663536, 0.024510838091373444, -0.029917074367403984, -0.0035843043588101864, 0.0361718125641346, -0.12826021015644073, 0.0063452026806771755, 0.023348823189735413, -0.13514716923236847, 0.00835107360035181, -0.009138607420027256, -0.004260282032191753, 0.04348943755030632, 0.03223821520805359, -0.15615709125995636, -0.008810444734990597, 0.08632684499025345, 0.10427536070346832, -0.042659223079681396, 0.008661431260406971, -0.004368677735328674, 0.024473171681165695, 0.01789884828031063, 0.008761009201407433, -0.01896803267300129, 0.0011241950560361147, 0.0004519488720688969, 0.0349574089050293, 0.03432623669505119, 0.01035610493272543, -0.016900919377803802, 0.10622072964906693, -0.002883660839870572, -0.0045997379347682, -0.04492194950580597, -0.018535785377025604, 0.03307183459401131, -0.07056142389774323, -0.008743039332330227, -0.04476042464375496, 0.030594130977988243, 0.09171219915151596, -0.02412525936961174, -0.030812600627541542, 0.07862136512994766, 0.0033081125002354383, -0.020565461367368698, 0.047605499625205994, 0.057292744517326355, -0.06693673878908157, -0.022272881120443344, 0.029437227174639702, 0.014241090975701809, 0.06403449922800064, -0.06569787859916687, -0.031274791806936264, 0.022435396909713745, -5.0074376918739833e-33, -0.03187508508563042, -0.0634041428565979, -0.03900479897856712, 0.023540496826171875, 0.039129775017499924, 0.034375280141830444, 0.04007615149021149, -0.02042279951274395, -0.03234885632991791, 0.05234210938215256, 0.059108976274728775, -0.007203826680779457, -0.0413203090429306, -0.011854363605380058, -0.11563927680253983, 0.011508891358971596, 0.06123320385813713, -0.02243105322122574, -0.02199668437242508, 0.014046425931155682, 0.025781113654375076, 0.005979319103062153, -0.009535359218716621, 0.02410019561648369, -0.06327745318412781, -0.002048346446827054, 0.03584285080432892, -0.029756814241409302, -0.04307175427675247, -0.0006004984606988728, -0.012534775771200657, -0.05623374879360199, 0.03205046430230141, 0.00027569939265958965, 0.0033528893254697323, 0.038537006825208664, -0.02654559724032879, -0.09196770936250687, -0.022769255563616753, 0.06158705800771713, 0.025685720145702362, 0.028194168582558632, 0.0353027805685997, -0.04987291619181633, -0.050001539289951324, -0.029349276795983315, -0.03212171047925949, 0.016586463898420334, 0.0370413176715374, 0.017528532072901726, -0.03870534151792526, -0.02932796999812126, -0.06344052404165268, -0.07388700544834137, -0.034475214779376984, -0.07062523812055588, 0.004816527012735605, 0.06969430297613144, -0.0031343132723122835, 0.004672522656619549, 0.0033470827620476484, -0.03398497402667999, -0.04832519590854645, 0.027934549376368523, 0.010772880166769028, -0.020612500607967377, -0.013131694868206978, -0.058492567390203476, -0.07565829902887344, 0.04130953922867775, -0.002591530093923211, -0.08955954760313034, 0.020978204905986786, 0.05543947592377663, 0.0020604217424988747, 0.05453985556960106, 0.024432696402072906, 0.10930521041154861, 0.028638362884521484, -0.04487135261297226, 0.027670428156852722, 0.03673369437456131, -0.003935204818844795, 0.17495696246623993, 0.0038331840187311172, 0.02374708466231823, 0.008619320578873158, 0.01620899699628353, -0.025720346719026566, -0.09185376763343811, -0.03880615159869194, -0.01746775396168232, -0.061267055571079254, -0.02816060557961464, 0.03858586773276329, -2.7597389262723482e-08, 0.07812158763408661, 0.05210356414318085, -0.027623290196061134, 0.021103402599692345, 0.05383595451712608, -0.0005517032695934176, -0.012521620839834213, 0.06315210461616516, -0.042400237172842026, 0.005271466448903084, -0.022028066217899323, 0.03648557513952255, -0.02323528379201889, 0.015137497335672379, 0.03038337267935276, -0.050987400114536285, 0.013745280914008617, -0.03752986714243889, 0.03390529006719589, -0.011586708948016167, 0.011013546027243137, 0.0033264767844229937, 0.014553074724972248, 0.02101232297718525, -0.08063562214374542, 0.08616846799850464, -0.048699505627155304, -0.015209274366497993, 0.008567473851144314, -0.005780571140348911, 0.007869835942983627, -0.01147827785462141, -0.07015310227870941, -0.008984295651316643, 0.018908092752099037, -0.08241429179906845, -0.01898185908794403, -0.007575731724500656, -0.01181712094694376, 0.01718554086983204, 0.08183785527944565, 0.004939319100230932, 0.07152926921844482, 0.05632316321134567, 0.09855367243289948, 0.04808485135436058, 0.11054379492998123, -0.10186515748500824, 0.033465441316366196, 0.049273230135440826, -0.027304600924253464, -0.03425010293722153, 0.00493097398430109, 0.08196206390857697, 0.014082635752856731, -0.048451945185661316, 0.06755330413579941, -0.08203928917646408, 0.02704210765659809, 0.029886141419410706, 0.08814927190542221, -0.04371565952897072, -0.08678335696458817, 0.01521508302539587]]\n"
          ]
        }
      ],
      "source": [
        "# Create a SentenceTransformerEmbeddingFunction object\n",
        "embedding_function = SentenceTransformerEmbeddingFunction()\n",
        "\n",
        "# Generate embeddings for the 11th chunk (index 10) of the token-split text and print the result\n",
        "print(embedding_function([token_split_texts[10]]))"
      ]
    },
    {
      "cell_type": "code",
      "execution_count": 6,
      "id": "8ba6c8c5-9ce4-44d0-9223-6fdd77871f87",
      "metadata": {
        "colab": {
          "base_uri": "https://localhost:8080/"
        },
        "id": "8ba6c8c5-9ce4-44d0-9223-6fdd77871f87",
        "outputId": "d4458c7f-2c5c-40e2-f3a4-a3fe56195ae2"
      },
      "outputs": [
        {
          "output_type": "execute_result",
          "data": {
            "text/plain": [
              "511"
            ]
          },
          "metadata": {},
          "execution_count": 6
        }
      ],
      "source": [
        "# Create a ChromaDB client\n",
        "chroma_client = chromadb.Client()\n",
        "\n",
        "# Create a new collection in ChromaDB with the name \"Alphabet Annual Report\" and the specified embedding function\n",
        "chroma_collection = chroma_client.create_collection(\"alphabet_annual_report\", embedding_function=embedding_function)\n",
        "\n",
        "# Generate a list of string IDs corresponding to the number of token-split text chunks\n",
        "ids = [str(i) for i in range(len(token_split_texts))]\n",
        "\n",
        "# Add the token-split text chunks to the ChromaDB collection using the generated IDs\n",
        "chroma_collection.add(ids=ids, documents=token_split_texts)\n",
        "\n",
        "# Count and return the number of documents in the ChromaDB collection\n",
        "chroma_collection.count()"
      ]
    },
    {
      "cell_type": "code",
      "source": [
        "# Step 1: Retrieve the API key from user data\n",
        "GEMINI_API_KEY = userdata.get('API_KEY')  # Get API Key from Secrets\n",
        "\n",
        "# Step 2: Configure the GenAI client with the retrieved API key\n",
        "genai.configure(api_key=GEMINI_API_KEY)\n",
        "\n",
        "# Step 3: Define the generation configuration for the model\n",
        "generation_config = {\n",
        "    \"temperature\": 0.9,       # Controls the randomness of the output (higher values mean more random)\n",
        "    \"top_p\": 1,               # Controls nucleus sampling (1 means no filtering)\n",
        "    \"top_k\": 1,               # Controls the number of highest probability tokens to consider (1 means only the highest)\n",
        "    \"max_output_tokens\": 2048 # Maximum number of tokens in the output\n",
        "}\n",
        "\n",
        "# Step 4: Initialize the generative model with the specified name and configuration\n",
        "model = genai.GenerativeModel(\n",
        "    model_name=\"gemini-1.0-pro\",       # Name of the model\n",
        "    generation_config=generation_config  # Configuration for text generation\n",
        ")"
      ],
      "metadata": {
        "id": "miBZMJi_ApAr"
      },
      "id": "miBZMJi_ApAr",
      "execution_count": 7,
      "outputs": []
    },
    {
      "cell_type": "code",
      "execution_count": 8,
      "id": "3731aa9d-7dec-43e7-adcd-abec44abcd97",
      "metadata": {
        "id": "3731aa9d-7dec-43e7-adcd-abec44abcd97"
      },
      "outputs": [],
      "source": [
        "def rag(query, retrieved_documents):\n",
        "    # Combine the retrieved documents into a single string, separated by double newlines\n",
        "    information = \"\\n\\n\".join(retrieved_documents)\n",
        "\n",
        "    # Create the message for the generative model, providing context and the user's query\n",
        "    messages = [\n",
        "        \"You will be shown the user's question, and the relevant information from the annual report. Answer the user's question using only this information.\"\n",
        "        f\"Question: {query}. \\n Information: {information}\"\n",
        "    ]\n",
        "\n",
        "    # Generate a response using the configured generative model\n",
        "    response = model.generate_content(messages)\n",
        "\n",
        "    # Return the text part of the first candidate's response\n",
        "    return response.candidates[0].content.parts[0].text"
      ]
    },
    {
      "cell_type": "code",
      "source": [
        "# Step 1: Define the query string\n",
        "query = \"What are some major revenues coming from?\"\n",
        "\n",
        "# Step 2: Query the ChromaDB collection with the specified query string, retrieving the top 3 results\n",
        "results = chroma_collection.query(query_texts=[query], n_results=3)\n",
        "\n",
        "# Step 3: Extract the list of retrieved documents from the query results\n",
        "retrieved_documents = results['documents'][0]\n",
        "\n",
        "# Step 4: Loop through each retrieved document, print the wrapped text, and add a newline for readability\n",
        "for document in retrieved_documents:\n",
        "    pprint(document)\n",
        "    print('\\n')\n"
      ],
      "metadata": {
        "colab": {
          "base_uri": "https://localhost:8080/"
        },
        "id": "K5xH5i-jAm7A",
        "outputId": "840b5b2f-b33f-437b-a3b8-a457e569c5bb"
      },
      "id": "K5xH5i-jAm7A",
      "execution_count": 14,
      "outputs": [
        {
          "output_type": "stream",
          "name": "stdout",
          "text": [
            "('zour employees are critical to our success and we expect to continue '\n",
            " 'investing in them. our employees are among our best assets and are critical '\n",
            " 'for our continued success. we expect to continue hiring talented employees '\n",
            " 'around the globe and to provide competitive compensation programs. for '\n",
            " 'additional information see culture and workforce in part i, item 1 “ '\n",
            " 'business. ” revenues and monetization metrics we generate revenues by '\n",
            " 'delivering relevant, cost - effective online advertising ; cloud - based '\n",
            " 'solutions that provide enterprise customers of all sizes with infrastructure '\n",
            " 'and platform services as well as communication and collaboration tools ; '\n",
            " 'sales of other products and services, such as apps and in - app purchases, '\n",
            " 'and hardware ; and fees received for subscription - based products. for '\n",
            " 'details on how we recognize revenue, see note 1 of the notes to consolidated '\n",
            " 'financial statements included in item 8 of this annual report on form 10 - '\n",
            " 'k.')\n",
            "\n",
            "\n",
            "('56 alphabet inc. ● annual report part ii item 8 financial statements and '\n",
            " 'supplementary data note 2. revenues disaggregated revenues the following '\n",
            " 'table presents revenues disaggregated by type ( in millions ) : year ended '\n",
            " 'december 31, 2020 2021 2022 google search & other $ 104, 062 $ 148, 951 $ '\n",
            " '162, 450 youtube ads 19, 772 28, 845 29, 243 google network 23, 090 31, 701 '\n",
            " '32, 780 google advertising 146, 924 209, 497 224, 473 google other 21, 711 '\n",
            " '28, 032 29, 055 google services total 168, 635 237, 529 253, 528 google '\n",
            " 'cloud 13, 059 19, 206 26, 280 other bets 657 753 1, 068 hedging gains ( '\n",
            " 'losses ) 176 149 1, 960 total revenues $ 182, 527 $ 257, 637 $ 282, 836 no '\n",
            " 'individual customer or groups of affiliated customers represented more than '\n",
            " '10 % of our revenues in 2020, 2021, or 2022. the following table presents '\n",
            " 'revenues disaggregated by geography, based on the addresses of our customers '\n",
            " '( in millions ) : year ended december 31, 2020 2021 2022 united states $ 85, '\n",
            " '014')\n",
            "\n",
            "\n",
            "('in addition to the long - term trends and their financial effect on our '\n",
            " 'business noted above, fluctuations in our revenues have been and may '\n",
            " 'continue to be affected by a combination of factors, including : zchanges in '\n",
            " 'foreign currency exchange rates ; zchanges in pricing, such as those '\n",
            " 'resulting from changes in fee structures, discounts, and customer incentives '\n",
            " '; zgeneral economic conditions and various external dynamics, including '\n",
            " 'geopolitical events, regulations, and other measures and their effect on '\n",
            " 'advertiser, consumer, and enterprise spending ; znew product and service '\n",
            " 'launches ; and zseasonality. additionally, fluctuations in our revenues '\n",
            " 'generated from advertising ( “ google advertising ” ), revenues from other '\n",
            " 'sources ( “ google other revenues ” ), google cloud, and other bets revenues '\n",
            " 'have been and may continue to be affected by other factors unique to each '\n",
            " 'set of revenues, as described below.')\n",
            "\n",
            "\n"
          ]
        }
      ]
    },
    {
      "cell_type": "code",
      "execution_count": 15,
      "id": "ffdde87b-71fc-4f2e-8b40-bcd881e3fe09",
      "metadata": {
        "colab": {
          "base_uri": "https://localhost:8080/",
          "height": 139
        },
        "id": "ffdde87b-71fc-4f2e-8b40-bcd881e3fe09",
        "outputId": "fa4afe57-7788-47be-ab93-71279dba5eb6"
      },
      "outputs": [
        {
          "output_type": "stream",
          "name": "stdout",
          "text": [
            "**Major revenue sources:**\n",
            "\n",
            "* **Google advertising:** Includes revenues from Google Search, YouTube Ads, and Google Network, totaling $224.473 billion in 2022.\n",
            "\n",
            "* **Google services:** Includes revenues from other products and services such as apps, in-app purchases, hardware, and subscription-based products, totaling $253.528 billion in 2022.\n",
            "\n",
            "* **Google Cloud:** Provides cloud-based solutions for enterprise customers, generating $26.280 billion in revenue in 2022.\n"
          ]
        }
      ],
      "source": [
        "# Generate the response using the RAG function with the provided query and retrieved documents\n",
        "output = rag(query=query, retrieved_documents=retrieved_documents)\n",
        "\n",
        "# Print the generated response\n",
        "print(output)"
      ]
    },
    {
      "cell_type": "code",
      "execution_count": 10,
      "id": "a7794092-4195-4cf3-9eab-11c9c05a26b9",
      "metadata": {
        "id": "a7794092-4195-4cf3-9eab-11c9c05a26b9"
      },
      "outputs": [],
      "source": []
    },
    {
      "cell_type": "code",
      "execution_count": 10,
      "id": "f2cab7a1-1be7-45f0-83b7-543e48f83901",
      "metadata": {
        "id": "f2cab7a1-1be7-45f0-83b7-543e48f83901"
      },
      "outputs": [],
      "source": []
    }
  ],
  "metadata": {
    "kernelspec": {
      "display_name": "Python 3 (ipykernel)",
      "language": "python",
      "name": "python3"
    },
    "language_info": {
      "codemirror_mode": {
        "name": "ipython",
        "version": 3
      },
      "file_extension": ".py",
      "mimetype": "text/x-python",
      "name": "python",
      "nbconvert_exporter": "python",
      "pygments_lexer": "ipython3",
      "version": "3.10.13"
    },
    "colab": {
      "provenance": [],
      "include_colab_link": true
    }
  },
  "nbformat": 4,
  "nbformat_minor": 5
}